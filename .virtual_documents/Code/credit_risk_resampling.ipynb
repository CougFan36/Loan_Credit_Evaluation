


import warnings
warnings.filterwarnings('ignore')


import numpy as np
import pandas as pd
from pathlib import Path
from collections import Counter
from sklearn.preprocessing import StandardScaler, LabelEncoder





# Load the data
file_path = Path('Resources/lending_data.csv')
df = pd.read_csv(file_path)
df.head()





# Create our features
X = df.drop(columns='loan_status')

# Create our target
y = df['loan_status']


X.describe()


# Check the balance of our target values
y.value_counts()


# Convert categorial fields to numerics and change labels to 0 and 1
X_dummies = pd.get_dummies(X)
y_label = LabelEncoder().fit_transform(y)


# Create X_train, X_test, y_train, y_test
from sklearn.model_selection import train_test_split

X_train, X_test, y_train, y_test = train_test_split(X_dummies, y_label, random_state=1)





# Create the StandardScaler instance
scaler = StandardScaler()


# Fit the Standard Scaler with the training data
# When fitting scaling functions, only train on the training dataset
scaled_train = scaler.fit(X_train)


# Scale the training and testing data
X_train_scaled = scaled_train.transform(X_train)
X_test_scaled = scaled_train.transform(X_test)





from sklearn.linear_model import LogisticRegression
model = LogisticRegression(solver='lbfgs', random_state=1)
model.fit(X_train_scaled, y_train)


# Calculated the balanced accuracy score
from sklearn.metrics import balanced_accuracy_score
y_pred = model.predict(X_test_scaled)
balanced_accuracy_score(y_test, y_pred)


# Display the confusion matrix
from sklearn.metrics import confusion_matrix
confusion_matrix(y_test, y_pred)


# Print the imbalanced classification report
from imblearn.metrics import classification_report_imbalanced
print(classification_report_imbalanced(y_test, y_pred))








# Resample the training data with the RandomOversampler
from imblearn.over_sampling import RandomOverSampler

ros = RandomOverSampler(random_state=1)
X_resampled, y_resampled = ros.fit_resample(X_train_scaled, y_train)

# View the count of target classes with Counter
Counter(y_resampled)


# Train the Logistic Regression model using the resampled data
model_ros = LogisticRegression(solver='lbfgs', random_state=1)
model_ros.fit(X_resampled, y_resampled)


# Calculated the balanced accuracy score
y_pred_ros = model_ros.predict(X_test_scaled)
balanced_accuracy_score(y_test, y_pred_ros)


# Display the confusion matrix
from sklearn.metrics import confusion_matrix
confusion_matrix(y_test, y_pred_ros)


# Print the imbalanced classification report
from imblearn.metrics import classification_report_imbalanced
print(classification_report_imbalanced(y_test, y_pred_ros))





# Resample the training data with SMOTE
from imblearn.over_sampling import SMOTE

X_resampled_sm, y_resampled_sm = SMOTE(random_state=1, sampling_strategy=1.0).fit_resample(
    X_train_scaled, y_train
)

# View the count of target classes with Counter
Counter(y_resampled_sm)


# Train the Logistic Regression model using the resampled data
model_sm = LogisticRegression(solver='lbfgs', random_state=1)
model_sm.fit(X_resampled_sm, y_resampled_sm)


# Calculated the balanced accuracy score
y_pred_sm = model.predict(X_test_scaled)
balanced_accuracy_score(y_test, y_pred_sm)


# Display the confusion matrix
confusion_matrix(y_test, y_pred_sm)


# Print the imbalanced classification report
print(classification_report_imbalanced(y_test, y_pred_sm))





# Resample the data using the ClusterCentroids resampler
from imblearn.under_sampling import ClusterCentroids

cc = ClusterCentroids()
X_resampled_cc, y_resampled_cc = cc.fit_resample(X_train_scaled, y_train)

# View the count of target classes with Counter
Counter(y_resampled_cc)


# Train the Logistic Regression model using the resampled data
model_cc = LogisticRegression(solver='lbfgs', random_state=1)
model_cc.fit(X_resampled_cc, y_resampled_cc)


# Calculate the balanced accuracy score
y_pred_cc = model_cc.predict(X_test_scaled)
balanced_accuracy_score(y_test, y_pred_cc)


# Display the confusion matrix
confusion_matrix(y_test, y_pred_cc)


# Print the imbalanced classification report
print(classification_report_imbalanced(y_test, y_pred_cc))





# Resample the training data with SMOTEENN
from imblearn.combine import SMOTEENN

smoteen = SMOTEENN(random_state=1)
X_resampled_teen, y_resampled_teen = smoteen.fit_resample(X_train_scaled, y_train)

# View the count of target classes with Counter
Counter(y_resampled_teen)


# Train the Logistic Regression model using the resampled data
model_teen = LogisticRegression(solver='lbfgs', random_state=1)
model_teen.fit(X_resampled_teen, y_resampled_teen)


# Calculate the balanced accuracy score
y_pred_teen = model_teen.predict(X_test_scaled)
balanced_accuracy_score(y_test, y_pred_teen)


# Display the confusion matrix
confusion_matrix(y_test, y_pred_teen)


# Print the imbalanced classification report
print(classification_report_imbalanced(y_test, y_pred_teen))






