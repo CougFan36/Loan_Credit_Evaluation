


import warnings
warnings.filterwarnings('ignore')


import numpy as np
import pandas as pd
from pathlib import Path
from collections import Counter


from sklearn.metrics import balanced_accuracy_score
from sklearn.metrics import confusion_matrix
from imblearn.metrics import classification_report_imbalanced





# Load the data
file_path = Path('Resources/LoanStats_2019Q1.csv')
df = pd.read_csv(file_path)

# Preview the data
df.head()





# Create our features
X = df.drop(columns='loan_status')

# Create our target
y = df['loan_status']


X.describe()


# Check the balance of our target values
Counter(y)


# Change categorical data to numeric through one-hot encoding
from sklearn.preprocessing import LabelEncoder

X_dummies = pd.get_dummies(X)
y_label = LabelEncoder().fit_transform(y)


# Split the X and y into X_train, X_test, y_train, y_test
from sklearn.model_selection import train_test_split

X_train, X_test, y_train, y_test = train_test_split(X_dummies,y_label,random_state=1)





# Create the StandardScaler instance
from sklearn.preprocessing import StandardScaler
scaler = StandardScaler()


# Fit the Standard Scaler with the training data
# When fitting scaling functions, only train on the training dataset
scaler_fit = scaler.fit(X_train)


# Scale the training and testing data
X_train_scaled = scaler_fit.transform(X_train)
X_test_scaled = scaler_fit.transform(X_test)








# Resample the training data with the BalancedRandomForestClassifier
from imblearn.ensemble import BalancedRandomForestClassifier

brf = BalancedRandomForestClassifier(n_estimators=100, random_state=1)
brf.fit(X_train, y_train)

y_pred_brf = brf.predict(X_test)


# Calculated the balanced accuracy score
balanced_accuracy_score(y_test, y_pred_brf)


# Display the confusion matrix
confusion_matrix(y_test, y_pred_brf)


# Print the imbalanced classification report
print(classification_report_imbalanced(y_test, y_pred_brf))


# List the features sorted in descending order by feature importance
feature_importance = brf.feature_importances_
sorted_indices = np.argsort(feature_importance)[::-1]
feature_names = X_dummies.columns.tolist()

print("Feature Importance (Descending Order):")
for i in sorted_indices:
    print(f"{feature_names[i]}: {feature_importance[i]}")





# Train the Classifier
from imblearn.ensemble import EasyEnsembleClassifier

eec = EasyEnsembleClassifier(n_estimators=100, random_state=1)
eec.fit(X_train, y_train)

y_pred_eec = eec.predict(X_test)


# Calculated the balanced accuracy score
balanced_accuracy_score(y_test, y_pred_eec)


# Display the confusion matrix
confusion_matrix(y_test, y_pred_eec)


# Print the imbalanced classification report
print(classification_report_imbalanced(y_test, y_pred_eec))






